{
 "cells": [
  {
   "cell_type": "code",
   "execution_count": null,
   "metadata": {},
   "outputs": [],
   "source": [
    "from local_kb_agent import LocalKBAgent\n",
    "from pprint import pprint\n",
    "import os\n",
    "\n",
    "config = {\n",
    "    'api_key': os.getenv('OPENAI_API_KEY'),\n",
    "    'base_url': os.getenv('OPENAI_BASE_URL'),\n",
    "    'model': 'gpt-4o',\n",
    "    'search_engine': 'tavily',\n",
    "    'search_api_key': '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',\n",
    "    'kb_path': '../knowledge_base/running/en/books',\n",
    "    'embedding_model': '../models/bce-embedding-base_v1',\n",
    "    'reranker_model': '../models/bce-reranker-base_v1',\n",
    "    'k': 50,\n",
    "    'top_n': 2,\n",
    "    'chunk_size': 1200,\n",
    "    'chunk_overlap': 200\n",
    "}"
   ]
  },
  {
   "cell_type": "code",
   "execution_count": null,
   "metadata": {},
   "outputs": [],
   "source": [
    "test_local_kb_agent = LocalKBAgent(config=config)"
   ]
  },
  {
   "cell_type": "code",
   "execution_count": null,
   "metadata": {},
   "outputs": [],
   "source": [
    "test_local_kb_agent.response(\n",
    "    {'睡眠如何影响运动员的跑步表现？': '充足的睡眠可以改善运动员的反应时间、判断力和整体表现。睡眠不足会导致疲劳、注意力不集中和恢复时间延长，从而降低跑步表现。'}\n",
    ")"
   ]
  },
  {
   "cell_type": "code",
   "execution_count": null,
   "metadata": {},
   "outputs": [],
   "source": []
  }
 ],
 "metadata": {
  "kernelspec": {
   "display_name": "kgraph",
   "language": "python",
   "name": "python3"
  },
  "language_info": {
   "codemirror_mode": {
    "name": "ipython",
    "version": 3
   },
   "file_extension": ".py",
   "mimetype": "text/x-python",
   "name": "python",
   "nbconvert_exporter": "python",
   "pygments_lexer": "ipython3",
   "version": "3.10.14"
  }
 },
 "nbformat": 4,
 "nbformat_minor": 2
}
